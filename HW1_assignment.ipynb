{
 "cells": [
  {
   "cell_type": "markdown",
   "metadata": {},
   "source": [
    "# ORIE 5355/INFO 5370 HW 1: Survey Weighting"
   ]
  },
  {
   "cell_type": "markdown",
   "metadata": {},
   "source": [
    " - Name: Joy Wang\n",
    " - Net-id: zw673\n",
    " - Date: 09/11/2023\n",
    " - Late days used for this assignment: 1\n",
    " - Total late days used (counting this assignment): 1\n",
    " - People with whom you discussed this assignment: None"
   ]
  },
  {
   "cell_type": "markdown",
   "metadata": {
    "ExecuteTime": {
     "end_time": "2021-09-01T19:23:05.646804Z",
     "start_time": "2021-09-01T19:23:05.610804Z"
    }
   },
   "source": [
    "After you finish the homework, please complete the following (short, anonymous) post-homework survey: https://forms.gle/AM1x5qEnLCvxsgrJ7"
   ]
  },
  {
   "cell_type": "markdown",
   "metadata": {},
   "source": [
    "We have marked questions in <font color='blue'> blue </font>. Please put answers in black (do not change colors). You'll want to write text answers in \"markdown\" mode instead of code. In Jupyter notebook, you can go to Cell > Cell Type > Markdown, from the menu. Please carefully read the late days policy and grading procedure [here](https://orie5355.github.io/Fall_2023/assignments/). In that link, we also give some tips on exporting your notebook to PDF, which is required for GradeScope submission. \n",
    "\n",
    "A few notes about this homework:\n",
    "1. This homework is purposefully heavy in using the Pandas package. Being able to explore data is an essential data science skill that you'll use throughout this class and your career -- even if the polling/politics application is not interesting to you. I encourage you to practice Pandas and learn how to use it well. Your code will NOT be graded on efficiency.\n",
    "2. Some of the questions can be interpreted in multiple ways. That is always true in data science. You'll need to make judgment calls for what analysis to do. For the homework, you'll still receive full points for any \"reasonable\" choice. Also feel free to ask questions on EdStem. \n",
    "\n",
    "Note: We sometimes provide sample images of what your output should look like. These are for clarification of what we are looking for. The numbers in the images are not necessarily correct, and your output does not need to look exactly like the images."
   ]
  },
  {
   "cell_type": "markdown",
   "metadata": {},
   "source": [
    "# Conceptual component"
   ]
  },
  {
   "cell_type": "markdown",
   "metadata": {},
   "source": [
    "### 1) Reading"
   ]
  },
  {
   "cell_type": "markdown",
   "metadata": {},
   "source": [
    "<font color='blue'> Please read Sections 3 and 4 (pages 6-13) here: https://www.nber.org/system/files/working_papers/w20830/w20830.pdf, and answer the following questions."
   ]
  },
  {
   "cell_type": "markdown",
   "metadata": {},
   "source": [
    "<font color='blue'> Please summarize the sections in no more than two sentences. "
   ]
  },
  {
   "cell_type": "markdown",
   "metadata": {},
   "source": [
    "It is more costly to leave negative rather than positive feedback, which makes the feedback system biased. Defining \"effective\" PP (EPP) as the number of positive feedback divided by total transactions is a useful way to indicate that transacting with higher EPP sellers decreases the probability that a bad buyer experience will occur."
   ]
  },
  {
   "cell_type": "markdown",
   "metadata": {},
   "source": [
    "<font color='blue'> Do you think it's a problem that most ratings are positive? If so, why? Answer in no more than four sentences. Please incorporate concepts discussed in class in your answer. "
   ]
  },
  {
   "cell_type": "markdown",
   "metadata": {},
   "source": [
    "Yes. In many hypotheses, some unmeasured confoundings might lead to differential non-response; that is, people who have bad experiences may prefer not to reply with a rating or people are kind and don't want to hurt others' livelihood. Rating inflation makes the rating system biased, which is not helpful for users to figure out good sellers from bad ones. Also, sellers may be more likely to feel competitive and, therefore, push explicit pressure on buyers in turn. "
   ]
  },
  {
   "cell_type": "markdown",
   "metadata": {},
   "source": [
    "### 2) Personal reflection"
   ]
  },
  {
   "cell_type": "markdown",
   "metadata": {},
   "source": [
    "<font color='blue'> Think back to a time that you trained a model on data from people or gathered opinions via a survey (an informal one is fine). If you have not done that before, you may answer these questions about an article in the news that reported on public opinions or a model that you think might be in deployment at a company or organization with which you interact (for example, Amazon, google maps, etc)"
   ]
  },
  {
   "cell_type": "markdown",
   "metadata": {},
   "source": [
    "<font color='blue'> Briefly summarize the scenario in no more than two sentences. "
   ]
  },
  {
   "cell_type": "markdown",
   "metadata": {},
   "source": [
    "I previously conducted a survey questionnaire about the romantic experiences and backgrounds of Tongji University students. After sharing this questionnaire in the student group, it went viral because students were very interested in finding out if there were any \"relationship gurus\" among them or gauging their own romantic experiences and popularity."
   ]
  },
  {
   "cell_type": "markdown",
   "metadata": {},
   "source": [
    "<font color='blue'> What was the construct that you cared about/wanted to measure? What was the measurement (numerical data)? In what ways did the measurement not match the construct you cared about? Answer in no more than 4 sentences.  "
   ]
  },
  {
   "cell_type": "markdown",
   "metadata": {},
   "source": [
    "The structure I care about is how rich the romantic experience of college students is, and how their background and conditions affect the romantic experience.\n",
    "\n",
    "I paid attention to the appearance, personality, academic performance, hobbies, etc. of the respondents, which are ranking data for 0-5, while the number of romantic experiences is a numerical value which can be any nonnegative integer.\n",
    "\n"
   ]
  },
  {
   "cell_type": "markdown",
   "metadata": {},
   "source": [
    "<font color='blue'> What selection biases/differential non-response issues occurred and how did it affect your measurement? (If your answer is \"None,\" explain exactly why you believe the assumptions discussed in class were met). Answer in no more than 3 sentences. "
   ]
  },
  {
   "cell_type": "markdown",
   "metadata": {},
   "source": [
    "In the data collected from the questionnaire, it was found that there are many people with perfect conditions, and almost everyone has very rich romantic experiences, which seems biased. This may be related to the fact that people with better romantic experiences have a higher response rate, or that people tend to answer with a higher value to show better social connection status."
   ]
  },
  {
   "cell_type": "markdown",
   "metadata": {},
   "source": [
    "<font color='blue'> Given what we have learned in class so far, what would you do differently if faced with the same scenario again? Answer in no more than 3 sentences. "
   ]
  },
  {
   "cell_type": "markdown",
   "metadata": {},
   "source": [
    "For differential non-response, I will do stratification instead of surveying completely random people. Learn more about students, create groups such that the response rates is not correlated with their answer within each group. I also will do weighting to mitigate over- and under- sampled groups."
   ]
  },
  {
   "cell_type": "markdown",
   "metadata": {},
   "source": [
    "# Programming component"
   ]
  },
  {
   "cell_type": "markdown",
   "metadata": {},
   "source": [
    "<font color='blue'> In this part of the homework, we provide you with data from a poll in Florida before the 2016 Presidential election in the United States. We also provide you with (one pollster's) estimates of who will vote in the 2016 election, made before the election. You will use this data and apply the weighting techniques covered in class."
   ]
  },
  {
   "cell_type": "markdown",
   "metadata": {},
   "source": [
    "## Preliminaries to load packages and data"
   ]
  },
  {
   "cell_type": "code",
   "execution_count": 1,
   "metadata": {
    "ExecuteTime": {
     "end_time": "2021-09-01T20:57:32.311779Z",
     "start_time": "2021-09-01T20:57:32.270775Z"
    }
   },
   "outputs": [],
   "source": [
    "import pandas as pd\n",
    "import numpy as np"
   ]
  },
  {
   "cell_type": "code",
   "execution_count": 2,
   "metadata": {
    "ExecuteTime": {
     "end_time": "2021-09-01T20:57:32.581776Z",
     "start_time": "2021-09-01T20:57:32.454782Z"
    }
   },
   "outputs": [
    {
     "data": {
      "text/html": [
       "<div>\n",
       "<style scoped>\n",
       "    .dataframe tbody tr th:only-of-type {\n",
       "        vertical-align: middle;\n",
       "    }\n",
       "\n",
       "    .dataframe tbody tr th {\n",
       "        vertical-align: top;\n",
       "    }\n",
       "\n",
       "    .dataframe thead th {\n",
       "        text-align: right;\n",
       "    }\n",
       "</style>\n",
       "<table border=\"1\" class=\"dataframe\">\n",
       "  <thead>\n",
       "    <tr style=\"text-align: right;\">\n",
       "      <th></th>\n",
       "      <th>candidate</th>\n",
       "      <th>age</th>\n",
       "      <th>gender</th>\n",
       "      <th>party</th>\n",
       "      <th>race</th>\n",
       "      <th>education</th>\n",
       "    </tr>\n",
       "  </thead>\n",
       "  <tbody>\n",
       "    <tr>\n",
       "      <th>0</th>\n",
       "      <td>Someone else</td>\n",
       "      <td>30-44</td>\n",
       "      <td>Male</td>\n",
       "      <td>Independent</td>\n",
       "      <td>White</td>\n",
       "      <td>College</td>\n",
       "    </tr>\n",
       "    <tr>\n",
       "      <th>1</th>\n",
       "      <td>Hillary Clinton</td>\n",
       "      <td>45-64</td>\n",
       "      <td>Male</td>\n",
       "      <td>Republican</td>\n",
       "      <td>Hispanic</td>\n",
       "      <td>College</td>\n",
       "    </tr>\n",
       "    <tr>\n",
       "      <th>2</th>\n",
       "      <td>Hillary Clinton</td>\n",
       "      <td>30-44</td>\n",
       "      <td>Male</td>\n",
       "      <td>Independent</td>\n",
       "      <td>Hispanic</td>\n",
       "      <td>College</td>\n",
       "    </tr>\n",
       "    <tr>\n",
       "      <th>3</th>\n",
       "      <td>Hillary Clinton</td>\n",
       "      <td>65+</td>\n",
       "      <td>Female</td>\n",
       "      <td>Democrat</td>\n",
       "      <td>White</td>\n",
       "      <td>College</td>\n",
       "    </tr>\n",
       "    <tr>\n",
       "      <th>4</th>\n",
       "      <td>Donald Trump</td>\n",
       "      <td>65+</td>\n",
       "      <td>Female</td>\n",
       "      <td>Republican</td>\n",
       "      <td>White</td>\n",
       "      <td>High School</td>\n",
       "    </tr>\n",
       "  </tbody>\n",
       "</table>\n",
       "</div>"
      ],
      "text/plain": [
       "         candidate    age  gender        party      race    education\n",
       "0     Someone else  30-44    Male  Independent     White      College\n",
       "1  Hillary Clinton  45-64    Male   Republican  Hispanic      College\n",
       "2  Hillary Clinton  30-44    Male  Independent  Hispanic      College\n",
       "3  Hillary Clinton    65+  Female     Democrat     White      College\n",
       "4     Donald Trump    65+  Female   Republican     White  High School"
      ]
     },
     "execution_count": 2,
     "metadata": {},
     "output_type": "execute_result"
    }
   ],
   "source": [
    "dfpoll = pd.read_csv('polling_data_hw1.csv') # raw polling data\n",
    "dfpoll.head()"
   ]
  },
  {
   "cell_type": "code",
   "execution_count": 3,
   "metadata": {
    "ExecuteTime": {
     "end_time": "2021-09-01T20:57:32.658773Z",
     "start_time": "2021-09-01T20:57:32.605777Z"
    },
    "scrolled": false
   },
   "outputs": [
    {
     "data": {
      "text/html": [
       "<div>\n",
       "<style scoped>\n",
       "    .dataframe tbody tr th:only-of-type {\n",
       "        vertical-align: middle;\n",
       "    }\n",
       "\n",
       "    .dataframe tbody tr th {\n",
       "        vertical-align: top;\n",
       "    }\n",
       "\n",
       "    .dataframe thead th {\n",
       "        text-align: right;\n",
       "    }\n",
       "</style>\n",
       "<table border=\"1\" class=\"dataframe\">\n",
       "  <thead>\n",
       "    <tr style=\"text-align: right;\">\n",
       "      <th></th>\n",
       "      <th>Electoral_Proportion</th>\n",
       "      <th>Demographic_Type_1</th>\n",
       "      <th>Demographic_Type_2</th>\n",
       "      <th>Demographic_1</th>\n",
       "      <th>Demographic_2</th>\n",
       "    </tr>\n",
       "  </thead>\n",
       "  <tbody>\n",
       "    <tr>\n",
       "      <th>0</th>\n",
       "      <td>0.387927</td>\n",
       "      <td>party</td>\n",
       "      <td>NaN</td>\n",
       "      <td>Democrat</td>\n",
       "      <td>NaN</td>\n",
       "    </tr>\n",
       "    <tr>\n",
       "      <th>1</th>\n",
       "      <td>0.398788</td>\n",
       "      <td>party</td>\n",
       "      <td>NaN</td>\n",
       "      <td>Republican</td>\n",
       "      <td>NaN</td>\n",
       "    </tr>\n",
       "    <tr>\n",
       "      <th>2</th>\n",
       "      <td>0.213285</td>\n",
       "      <td>party</td>\n",
       "      <td>NaN</td>\n",
       "      <td>Independent</td>\n",
       "      <td>NaN</td>\n",
       "    </tr>\n",
       "    <tr>\n",
       "      <th>3</th>\n",
       "      <td>0.445928</td>\n",
       "      <td>gender</td>\n",
       "      <td>NaN</td>\n",
       "      <td>Male</td>\n",
       "      <td>NaN</td>\n",
       "    </tr>\n",
       "    <tr>\n",
       "      <th>4</th>\n",
       "      <td>0.554072</td>\n",
       "      <td>gender</td>\n",
       "      <td>NaN</td>\n",
       "      <td>Female</td>\n",
       "      <td>NaN</td>\n",
       "    </tr>\n",
       "  </tbody>\n",
       "</table>\n",
       "</div>"
      ],
      "text/plain": [
       "   Electoral_Proportion Demographic_Type_1 Demographic_Type_2 Demographic_1  \\\n",
       "0              0.387927              party                NaN      Democrat   \n",
       "1              0.398788              party                NaN    Republican   \n",
       "2              0.213285              party                NaN   Independent   \n",
       "3              0.445928             gender                NaN          Male   \n",
       "4              0.554072             gender                NaN        Female   \n",
       "\n",
       "  Demographic_2  \n",
       "0           NaN  \n",
       "1           NaN  \n",
       "2           NaN  \n",
       "3           NaN  \n",
       "4           NaN  "
      ]
     },
     "execution_count": 3,
     "metadata": {},
     "output_type": "execute_result"
    }
   ],
   "source": [
    "dfdemographic = pd.read_csv('florida_proportions_hw1.csv') # proportions of population\n",
    "dfdemographic.head()"
   ]
  },
  {
   "cell_type": "code",
   "execution_count": 4,
   "metadata": {},
   "outputs": [],
   "source": [
    "dfdemographic.tail()"
   ]
  },
  {
   "cell_type": "markdown",
   "metadata": {},
   "source": [
    "dfdemographic contains estimates of likely voters in Florida in 2016. When Demographic_Type_2 is NaN, the row refers to just the marginal population percentage of the group in Demographic_1 of type Demographic_Type_1. When it is not NaN, the row has the joint distribution of the corresponding demographic groups.\n",
    "\n",
    "For example, row 0 means that 38.7927% of the electorate is from the Democrat party. Row 113 means that 2.7588% of the electorate is Hispanic AND graduated college. "
   ]
  },
  {
   "cell_type": "markdown",
   "metadata": {},
   "source": [
    "## Part A: Raw visualization"
   ]
  },
  {
   "cell_type": "markdown",
   "metadata": {},
   "source": [
    "<font color='blue'> Here, we'll visualize whether the respondents in the poll match the likely voter estimates. Create a scatter-plot where each point represents one Demographic group (for example, party-Independent), where the X axis is the Electoral_Proportion in dfdemographic, and the Y axis is the proportion in dfpoll (Hint: you will need to calculate this yourself). "
   ]
  },
  {
   "cell_type": "code",
   "execution_count": 2,
   "metadata": {
    "scrolled": false
   },
   "outputs": [],
   "source": [
    "import csv\n",
    "\n",
    "class Group:\n",
    "    def __init__(self, age=None, education=None, gender=None, party=None, race=None,p=None,select_p = None):\n",
    "        self.age = age\n",
    "        self.education = education\n",
    "        self.gender = gender\n",
    "        self.party = party\n",
    "        self.race = race\n",
    "        self.p = p\n",
    "        self.select_p = 0\n",
    "\n",
    "    def __str__(self):\n",
    "        return f\"Group(age={self.age}, education={self.education}, gender={self.gender}, party={self.party}, race={self.race}, p={self.p}, select_p={self.select_p})\"\n",
    "\n",
    "# instantiate object group\n",
    "groups = []\n",
    "with open('florida_proportions_hw1.csv', newline='') as csvfile:\n",
    "    reader = csv.DictReader(csvfile)\n",
    "    current_group = {}  \n",
    "    for row in reader:\n",
    "        p=row['Electoral_Proportion']\n",
    "        current_group['p']=p\n",
    "        demographic_1 = row['Demographic_1']\n",
    "        demographic_type_1 = row['Demographic_Type_1']\n",
    "        \n",
    "        if demographic_type_1 == 'age':\n",
    "            current_group['age'] = demographic_1\n",
    "        elif demographic_type_1 == 'education':\n",
    "            current_group['education'] = demographic_1\n",
    "        elif demographic_type_1 == 'gender':\n",
    "            current_group['gender'] = demographic_1\n",
    "        elif demographic_type_1 == 'party':\n",
    "            current_group['party'] = demographic_1\n",
    "        elif demographic_type_1 == 'race':\n",
    "            current_group['race'] = demographic_1\n",
    "        \n",
    "        \n",
    "        if 'Demographic_Type_2' in row and 'Demographic_2' in row:\n",
    "            demographic_type_2 = row['Demographic_Type_2']\n",
    "            demographic_2 = row['Demographic_2']\n",
    "            if demographic_type_2 == 'age':\n",
    "                current_group['age'] = row['Demographic_2']\n",
    "            elif demographic_type_2 == 'education':\n",
    "                current_group['education'] = row['Demographic_2']\n",
    "            elif demographic_type_2 == 'gender':\n",
    "                current_group['gender'] = row['Demographic_2']\n",
    "            elif demographic_type_2 == 'party':\n",
    "                current_group['party'] = row['Demographic_2']\n",
    "            elif demographic_type_2 == 'race':\n",
    "                current_group['race'] = row['Demographic_2']\n",
    "\n",
    "        group = Group(**current_group)\n",
    "        groups.append(group)\n",
    "        current_group = {}\n",
    "\n",
    "\n",
    "\n",
    "class Person:\n",
    "    def __init__(self, candidate=None, age=None, gender=None, party=None, race=None, education=None):\n",
    "        self.candidate = candidate\n",
    "        self.age = age\n",
    "        self.gender = gender\n",
    "        self.party = party\n",
    "        self.race = race\n",
    "        self.education = education\n",
    "\n",
    "    def __str__(self):\n",
    "        return f\"Person(candidate={self.candidate}, age={self.age}, gender={self.gender}, party={self.party}, race={self.race}, education={self.education})\"\n",
    "\n"
   ]
  },
  {
   "cell_type": "code",
   "execution_count": 3,
   "metadata": {},
   "outputs": [
    {
     "data": {
      "image/png": "[encoded data removed]",
      "text/plain": [
       "<Figure size 640x480 with 1 Axes>"
      ]
     },
     "metadata": {},
     "output_type": "display_data"
    }
   ],
   "source": [
    "# instantiate object person\n",
    "people = []\n",
    "with open('polling_data_hw1.csv', newline='') as csvfile:\n",
    "    reader = csv.DictReader(csvfile)\n",
    "    for row in reader:\n",
    "        candidate = row['candidate']\n",
    "        age = row['age']\n",
    "        gender = row['gender']\n",
    "        party = row['party']\n",
    "        race = row['race']\n",
    "        education = row['education']\n",
    "\n",
    "        person = Person(candidate, age, gender, party, race, education)\n",
    "        people.append(person)\n",
    "\n",
    "# print persons\n",
    "# for idx, person in enumerate(people):\n",
    "#     print(f\"Person {idx + 1}: {person}\")\n",
    "    \n",
    "# number of Person\n",
    "total_people = len(people)\n",
    "\n",
    "# Initialization of population ratio = 0\n",
    "group_ratios = {group: 0 for group in groups}\n",
    "\n",
    "for group in groups:\n",
    "    group.select_p = 0\n",
    "    \n",
    "# Iterate over each Person and each Group, check that the Group's requirements are met, and update the ratio of people\n",
    "for person in people:\n",
    "    for group in groups:\n",
    "        if (group.age is None or person.age == group.age) and \\\n",
    "           (group.gender is None or person.gender == group.gender) and \\\n",
    "           (group.party is None or person.party == group.party) and \\\n",
    "           (group.race is None or person.race == group.race) and \\\n",
    "           (group.education is None or person.education == group.education):\n",
    "            group.select_p += 1\n",
    "\n",
    "for group in groups:\n",
    "    group.select_p /= len(people)\n",
    "\n",
    "\n",
    "# print group information\n",
    "#for idx, group in enumerate(groups):\n",
    "#    print(f\"Group {idx + 1}: {group}\")\n",
    "\n",
    "    \n",
    "# visualization\n",
    "import matplotlib.pyplot as plt\n",
    "\n",
    "x = [float(x) for x in [group.p for group in groups]]\n",
    "y = [float(y) for y in [group.select_p for group in groups]]\n",
    "\n",
    "plt.scatter(x,y)\n",
    "plt.xlabel('p')\n",
    "plt.ylabel('select_p')\n",
    "\n",
    "plt.show()\n"
   ]
  },
  {
   "cell_type": "markdown",
   "metadata": {},
   "source": [
    "<font color='blue'> dfdemographic tells us the true proportion of each demographic group in the entire population, the calculated proportion from dfpoll tells us the proportion of each demographic group represented in the poll. For a poll to be representative of the population, ideally we would want the latter to be the same as the former. However, this is hard to achieve in practice.\n",
    "\n",
    "\n",
    "In your view, which group is most over-represented? Most under-represented? Why? Answer in no more than 3 sentences. There are multiple reasonable definitions of \"over\" or \"under\" represented; any choice is fine as long as you justify your answer.</font>"
   ]
  },
  {
   "cell_type": "code",
   "execution_count": 4,
   "metadata": {},
   "outputs": [
    {
     "name": "stdout",
     "output_type": "stream",
     "text": [
      "most under-represented:\n",
      "Group(age=None, education=High School, gender=None, party=None, race=None, p=0.37431564319503, select_p=0.1972318339100346)\n",
      "most over-represented:\n",
      "Group(age=None, education=None, gender=None, party=Independent, race=None, p=0.21328503883900501, select_p=0.34832756632064593)\n"
     ]
    }
   ],
   "source": [
    "max_diff_group = max(groups, key=lambda group: (float(group.p) - group.select_p))\n",
    "min_diff_group = min(groups, key=lambda group: (float(group.p) - group.select_p))\n",
    "\n",
    "\n",
    "print(\"most under-represented:\")\n",
    "print(max_diff_group)\n",
    "print(\"most over-represented:\")\n",
    "print(min_diff_group)"
   ]
  },
  {
   "cell_type": "markdown",
   "metadata": {},
   "source": [
    "According to the result above, the group with high school education level is most under-represented, accounting for around 37.4% of the entire population while only 19.7% in the poll. Similarly, the group that comes from the independent party is most over-represented as their percentage of the poll is much higher than that of the entire population."
   ]
  },
  {
   "cell_type": "markdown",
   "metadata": {},
   "source": [
    "## Part B: Weighting"
   ]
  },
  {
   "cell_type": "markdown",
   "metadata": {},
   "source": [
    "<font color='blue'> For this question, we'll ignore people who answered anything but \"Hillary Clinton\" or \"Donald Trump.\"\n",
    "\n",
    "\n",
    "You'll notice that some of the groups in the polling data (\"refused\") do not show up in the population percentages. For the questions that require weighting by demographics, ignore those respondents.\n",
    "\n"
   ]
  },
  {
   "cell_type": "markdown",
   "metadata": {},
   "source": [
    "### 1) Raw average"
   ]
  },
  {
   "cell_type": "markdown",
   "metadata": {},
   "source": [
    "<font color='blue'> Below, report the \"raw polling average,\" the percentage of people \"Hillary Clinton\" divided by the number who answered either Hillary or Trump."
   ]
  },
  {
   "cell_type": "code",
   "execution_count": 56,
   "metadata": {},
   "outputs": [
    {
     "name": "stdout",
     "output_type": "stream",
     "text": [
      "0.5458333333333333\n"
     ]
    }
   ],
   "source": [
    "people_sel=[]\n",
    "Hillary_all=[]\n",
    "Hnum=0\n",
    "for person in people:\n",
    "    if person.candidate ==\"Hillary Clinton\" or person.candidate ==\"Donald Trump\":\n",
    "        people_sel.append(person)\n",
    "        if person.candidate ==\"Hillary Clinton\":\n",
    "            Hnum+=1\n",
    "\n",
    "Hillary_per=Hnum/len(people_sel)\n",
    "print(Hillary_per)\n",
    "Hillary_all.append(Hillary_per)"
   ]
  },
  {
   "cell_type": "markdown",
   "metadata": {},
   "source": [
    "### 2) Single dimensional marginal weighting (on just 1 demographic type)"
   ]
  },
  {
   "cell_type": "markdown",
   "metadata": {},
   "source": [
    "<font color='blue'> For each demographic type separately -- age, gender, party, race, and education -- weight the poll by just that demographic type, in accordance to the population proportions given. Report the resulting poll results, and briefly (at most 3 sentences) describe what you observe.\n",
    "\n",
    "\n",
    "For example, when weighted by race, you'll report:\n",
    "\n",
    "Weighted by race --- Clinton: 0.530, Trump: 0.470\n"
   ]
  },
  {
   "cell_type": "code",
   "execution_count": 57,
   "metadata": {},
   "outputs": [
    {
     "name": "stdout",
     "output_type": "stream",
     "text": [
      "In following lines, the first number is for Clinton and the latter number is for Trump\n",
      "age (0.5305420129721238, 0.4694579870278752)\n",
      "education (0.5440587022833179, 0.4559412977166821)\n",
      "gender (0.5498233520750473, 0.45017664792495266)\n",
      "party (0.4987195030437841, 0.5012804969562159)\n",
      "race (0.5304859528515626, 0.4695140471484364)\n"
     ]
    }
   ],
   "source": [
    "from collections import defaultdict\n",
    "def single(people_sel, groups, feature, **kwargs):\n",
    "    feature_type = {}\n",
    "    canbyfeature = defaultdict(dict)\n",
    "\n",
    "    #  feature_type\n",
    "    total = 0\n",
    "    for person in people_sel:\n",
    "        if getattr(person, feature) != 'Refused':\n",
    "            if getattr(person, feature) not in feature_type:\n",
    "                feature_type[getattr(person, feature)] = 1\n",
    "            else:\n",
    "                feature_type[getattr(person, feature)] += 1\n",
    "            total += 1\n",
    "\n",
    "    #  feature_per\n",
    "    feature_per = {}\n",
    "    for key in feature_type:\n",
    "        feature_per[key] = feature_type[key] / total\n",
    "\n",
    "    #print(feature_per)\n",
    "\n",
    "    #  canbyfeature\n",
    "    for person in people_sel:\n",
    "        if getattr(person, feature) != 'Refused':\n",
    "            if getattr(person, feature) not in canbyfeature:\n",
    "                canbyfeature[getattr(person, feature)] = {}\n",
    "                if person.candidate == \"Hillary Clinton\":\n",
    "                    canbyfeature[getattr(person, feature)]['H'] = 1\n",
    "                else:\n",
    "                    canbyfeature[getattr(person, feature)]['D'] = 1\n",
    "            else:\n",
    "                if person.candidate == \"Hillary Clinton\" and 'H' not in canbyfeature[getattr(person, feature)]:\n",
    "                    canbyfeature[getattr(person, feature)]['H'] = 1\n",
    "                elif person.candidate == \"Donald Trump\" and 'D' not in canbyfeature[getattr(person, feature)]:\n",
    "                    canbyfeature[getattr(person, feature)]['D'] = 1\n",
    "                elif person.candidate == \"Hillary Clinton\" and 'H' in canbyfeature[getattr(person, feature)]:\n",
    "                    canbyfeature[getattr(person, feature)]['H'] += 1\n",
    "                else:\n",
    "                    canbyfeature[getattr(person, feature)]['D'] += 1\n",
    "                    \n",
    "    for out_key in canbyfeature:\n",
    "        for inner_key in canbyfeature[out_key]:\n",
    "            canbyfeature[out_key][inner_key] = canbyfeature[out_key][inner_key] / feature_type[out_key]\n",
    "\n",
    "\n",
    "    # find Group\n",
    "    def find_group(**kwargs):\n",
    "        filtered_groups = [group for group in groups if all(getattr(group, key) == value for key, value in kwargs.items())]\n",
    "        if filtered_groups:\n",
    "            return filtered_groups[0]\n",
    "        else:\n",
    "            return None\n",
    "\n",
    "    feature_allpeople = {}\n",
    "    for feature_value in feature_type.keys():\n",
    "        kwargs[feature] = feature_value\n",
    "        group = find_group(**kwargs)\n",
    "        if group:\n",
    "            feature_allpeople[feature_value] = group.p\n",
    "\n",
    "    H = 0\n",
    "    D = 0\n",
    "    for feature_value in feature_type.keys():\n",
    "        H += float(feature_allpeople[feature_value]) * canbyfeature[feature_value]['H']\n",
    "\n",
    "    for feature_value in feature_type.keys():\n",
    "        D += float(feature_allpeople[feature_value]) * canbyfeature[feature_value]['D']\n",
    "\n",
    "    return H, D\n",
    "\n",
    "print(\"In following lines, the first number is for Clinton and the latter number is for Trump\")\n",
    "print(\"age\",single(people_sel, groups, 'age', education=None, gender=None, party=None, race=None))\n",
    "print(\"education\",single(people_sel, groups, 'education', age=None, gender=None, party=None, race=None))\n",
    "print(\"gender\",single(people_sel, groups, 'gender', age=None, education=None, party=None, race=None))\n",
    "print(\"party\",single(people_sel, groups, 'party', age=None, education=None, gender=None, race=None))\n",
    "print(\"race\",single(people_sel, groups, 'race', age=None, education=None, gender=None, party=None))\n",
    "Hillary_all.append(single(people_sel, groups, 'age', education=None, gender=None, party=None, race=None)[0])\n",
    "Hillary_all.append(single(people_sel, groups, 'education', age=None, gender=None, party=None, race=None)[0])\n",
    "Hillary_all.append(single(people_sel, groups, 'gender', age=None, education=None, party=None, race=None)[0])\n",
    "Hillary_all.append(single(people_sel, groups, 'party', age=None, education=None, gender=None, race=None)[0])\n",
    "Hillary_all.append(single(people_sel, groups, 'race', age=None, education=None, gender=None, party=None)[0])"
   ]
  },
  {
   "cell_type": "markdown",
   "metadata": {},
   "source": [
    "According to the result, it can be found that the group who supported Clinton is over-representative in most cases, including age, education, race, and especially party. \n",
    "It may be because Trump's supporters were less likely to answer this poll, or Clinton's supporters more likely to refuse to answer their party. \n",
    "However, the group of particular genders who support Clinton is under-representative as the portion is smaller than it should be in the entire population."
   ]
  },
  {
   "cell_type": "markdown",
   "metadata": {},
   "source": [
    "### 2-dimensional joint distribution weighting"
   ]
  },
  {
   "cell_type": "markdown",
   "metadata": {},
   "source": [
    "<font color='blue'>Now, for each pair of demographic types in dfdemographic, do the same -- weight the poll by that pair of demographic types, in accordance to the given joint distributions, and briefly (at most 3 sentences) describe what you observe.\n",
    "\n",
    "For example, when weighted by race and age, you'll find:\n",
    "\n",
    "Weighted by age and race: Clinton: 0.525, Trump: 0.475"
   ]
  },
  {
   "cell_type": "code",
   "execution_count": 58,
   "metadata": {
    "scrolled": true
   },
   "outputs": [
    {
     "name": "stdout",
     "output_type": "stream",
     "text": [
      "In following lines, the first number is for Clinton and the latter number is for Trump\n",
      "age and education (0.5254829927664427, 0.47451700723355683)\n",
      "age and gender (0.5332889700974133, 0.466711029902588)\n",
      "age and party (0.4979923466251235, 0.5020076533748766)\n",
      "age and race (0.5245159272021908, 0.47548407279780935)\n",
      "education and gender (0.5475782479595503, 0.4524217520404497)\n",
      "education and party (0.4935008813708104, 0.5064991186291888)\n",
      "education and race (0.514272284761291, 0.48572771523870967)\n",
      "gender and party (0.5029213060686997, 0.4970786939312994)\n",
      "gender and race (0.5348155487959093, 0.4651844512040904)\n",
      "party and race (0.5011444670666649, 0.49885553293333473)\n"
     ]
    }
   ],
   "source": [
    "def twod2(people_sel, groups, feature, feature2):\n",
    "    feature_type = {}\n",
    "    canbyfeature = defaultdict(dict)\n",
    "    \n",
    "    # feature_type\n",
    "    total = 0\n",
    "    for person in people_sel:\n",
    "        if getattr(person, feature) != 'Refused' and getattr(person, feature2) != 'Refused':\n",
    "            key = (getattr(person, feature), getattr(person, feature2))\n",
    "            feature_type[key] = feature_type.get(key, 0) + 1\n",
    "            total += 1\n",
    "    \n",
    "    # feature_percentage\n",
    "    feature_per = {key: count / total for key, count in feature_type.items()}\n",
    "    \n",
    "    # candidate by feature\n",
    "    for person in people_sel:\n",
    "        if getattr(person, feature) != 'Refused' and getattr(person, feature2) != 'Refused':\n",
    "            key = (getattr(person, feature), getattr(person, feature2))\n",
    "            if key not in canbyfeature:\n",
    "                canbyfeature[key] = {}\n",
    "            if person.candidate == \"Hillary Clinton\":\n",
    "                canbyfeature[key]['H'] = canbyfeature[key].get('H', 0) + 1\n",
    "            else:\n",
    "                canbyfeature[key]['D'] = canbyfeature[key].get('D', 0) + 1\n",
    "    \n",
    "    for key in canbyfeature:\n",
    "        for inner_key in canbyfeature[key]:\n",
    "            canbyfeature[key][inner_key] /= feature_type[key]\n",
    "    \n",
    "    # find certain group\n",
    "    def findgroup(**kwargs):\n",
    "        filtered_groups = [group for group in groups if all(getattr(group, k) == v for k, v in kwargs.items())]\n",
    "        for group in filtered_groups:\n",
    "            return group\n",
    "    \n",
    "    feature_allpeople = {}\n",
    "    for key in feature_type.keys():\n",
    "        feature_value = key[0]\n",
    "        feature2_value = key[1]\n",
    "        kwargs = {feature: feature_value, feature2: feature2_value}\n",
    "        feature_allpeople[(feature_value, feature2_value)] = findgroup(**kwargs).p\n",
    "    \n",
    "    H = 0\n",
    "    D = 0\n",
    "    for feature_value in feature_type.keys():\n",
    "        if canbyfeature[feature_value].get('H') is not None:\n",
    "            H += float(feature_allpeople[feature_value]) * canbyfeature[feature_value].get('H', 0)\n",
    "    \n",
    "    for feature_value in feature_type.keys():\n",
    "        if canbyfeature[feature_value].get('D') is not None:\n",
    "            D += float(feature_allpeople[feature_value]) * canbyfeature[feature_value].get('D', 0)\n",
    "    \n",
    "    return H, D\n",
    "\n",
    "temp=[]\n",
    "print(\"In following lines, the first number is for Clinton and the latter number is for Trump\")\n",
    "for i in ['age','education','gender','party','race']:\n",
    "    for j in ['age','education','gender','party','race']:\n",
    "        if i != j and {i,j} not in temp:\n",
    "            temp.append({i,j})\n",
    "            Hillary_all.append(twod2(people_sel, groups,i,j)[0])\n",
    "            print(i,\"and\",j,twod2(people_sel, groups,i,j))"
   ]
  },
  {
   "cell_type": "markdown",
   "metadata": {},
   "source": [
    "According to the result, it can be found that when weighted by education and party, or weighted by age and party, Trump would win the election with more proportion of support, which is different from the initial prediction. \n",
    "It may be because Trump's supporters were less likely to answer this poll, or Clinton's supporters more likely to refuse to answer their party. \n",
    "Compared with the raw polling average, Clinton's supporters are over-representative in almost all groups except education and gender, which may be because Trump's supporters were more likely to refuse to answer about their education."
   ]
  },
  {
   "cell_type": "markdown",
   "metadata": {},
   "source": [
    "### 3) 2-dimensional marginal "
   ]
  },
  {
   "cell_type": "markdown",
   "metadata": {
    "ExecuteTime": {
     "end_time": "2021-09-01T18:25:18.040978Z",
     "start_time": "2021-09-01T18:25:18.016981Z"
    }
   },
   "source": [
    "<font color='blue'>We don't always have access to joint distributions across the population -- for example, it may be hard to estimate from past exit polls (surveys done as people are leaving the polling station) what the joint distribution of education and gender is, for example. However, access to marginal distributions are often available. \n",
    "\n",
    "As discussed in class, one strategy when you don't have access to joint distributions -- only marginals -- is to _multiply_ the marginal distributions. For example, if 50% of your population is Democratic and 50% is a woman, then pretend that 50% times 50% = 25% of your population is a Democratic women. Clearly this technique is not perfect, but it is sometimes a useful heuristic. (Hint: you can use the marginal distribution provided in dfdemographic)\n",
    "\n",
    "For the following pairs of Demographic types, report the weighting results if you use the joint distributions in dfdemographic versus if you approximate the joint distribution using the marginals. Briefly (at most 3 sentences) describe what you observe.\n",
    "\n",
    "(party, gender)\n",
    "\n",
    "(race, gender)"
   ]
  },
  {
   "cell_type": "markdown",
   "metadata": {},
   "source": [
    "As an example output, here's the results for two other pairs of demographics:\n",
    "\n",
    "| Demo1   | Demo2     |    Joint |   Marginal |\n",
    "|:--------|:----------|---------:|-----------:|\n",
    "| age     | race      | 0.524516 |   0.5249   | \n",
    "| age     | education | 0.525483 |   0.523902 |  "
   ]
  },
  {
   "cell_type": "code",
   "execution_count": 59,
   "metadata": {
    "scrolled": false
   },
   "outputs": [
    {
     "name": "stdout",
     "output_type": "stream",
     "text": [
      "In following lines, the first number is for Clinton and the latter number is for Trump\n",
      "age and education (0.5239021013398512, 0.47609789866014784)\n",
      "age and gender (0.5336204861210343, 0.46637951387896487)\n",
      "age and party (0.49560589356749163, 0.5043941064325074)\n",
      "age and race (0.5248995300419046, 0.4751004699580936)\n",
      "education and gender (0.5474630723485618, 0.45253692765143816)\n",
      "education and party (0.49371450047545906, 0.5062854995245409)\n",
      "education and race (0.5071514204364683, 0.4928485795635305)\n",
      "gender and party (0.5038023651304451, 0.4961976348695548)\n",
      "gender and race (0.534844343587629, 0.46515565641236994)\n",
      "party and race (0.519658653188184, 0.48034134681181495)\n",
      "   Feature 1  Feature 2  Clinton_marginal  Trump_marginal  Clinton_joint  Trump_joint\n",
      "0        age  education          0.523902        0.476098       0.525483     0.474517\n",
      "1        age     gender          0.533620        0.466380       0.533289     0.466711\n",
      "2        age      party          0.495606        0.504394       0.497992     0.502008\n",
      "3        age       race          0.524900        0.475100       0.524516     0.475484\n",
      "4  education     gender          0.547463        0.452537       0.547578     0.452422\n",
      "5  education      party          0.493715        0.506285       0.493501     0.506499\n",
      "6  education       race          0.507151        0.492849       0.514272     0.485728\n",
      "7     gender      party          0.503802        0.496198       0.502921     0.497079\n",
      "8     gender       race          0.534844        0.465156       0.534816     0.465184\n",
      "9      party       race          0.519659        0.480341       0.501144     0.498856\n"
     ]
    }
   ],
   "source": [
    "def margin(people_sel, groups, feature, feature2):\n",
    "    feature_type = {}\n",
    "    canbyfeature = defaultdict(dict)\n",
    "    \n",
    "    # feature_type\n",
    "    total = 0\n",
    "    for person in people_sel:\n",
    "        if getattr(person, feature) != 'Refused' and getattr(person, feature2) != 'Refused':\n",
    "            key = (getattr(person, feature), getattr(person, feature2))\n",
    "            feature_type[key] = feature_type.get(key, 0) + 1\n",
    "            total += 1\n",
    "    \n",
    "    # feature_percentage\n",
    "    feature_per = {key: count / total for key, count in feature_type.items()}\n",
    "    \n",
    "    # candidate by feature\n",
    "    for person in people_sel:\n",
    "        if getattr(person, feature) != 'Refused' and getattr(person, feature2) != 'Refused':\n",
    "            key = (getattr(person, feature), getattr(person, feature2))\n",
    "            if key not in canbyfeature:\n",
    "                canbyfeature[key] = {}\n",
    "            if person.candidate == \"Hillary Clinton\":\n",
    "                canbyfeature[key]['H'] = canbyfeature[key].get('H', 0) + 1\n",
    "            else:\n",
    "                canbyfeature[key]['D'] = canbyfeature[key].get('D', 0) + 1\n",
    "    \n",
    "    for key in canbyfeature:\n",
    "        for inner_key in canbyfeature[key]:\n",
    "            canbyfeature[key][inner_key] /= feature_type[key]\n",
    "    \n",
    "    # find certain group\n",
    "    def findgroup(**kwargs):\n",
    "        filtered_groups = [group for group in groups if all(getattr(group, k) == v for k, v in kwargs.items())]\n",
    "        for group in filtered_groups:\n",
    "            return group\n",
    "    \n",
    "    feature_allpeople = {}\n",
    "    for key in feature_type.keys():\n",
    "        feature_value = key[0]\n",
    "        feature2_value = key[1]\n",
    "        kwargs1 = {feature: feature_value}\n",
    "        kwargs2 = {feature2: feature2_value}\n",
    "        feature_allpeople[(feature_value, feature2_value)] = float(findgroup(**kwargs1).p)*float(findgroup(**kwargs2).p)\n",
    "    \n",
    "    H = 0\n",
    "    D = 0\n",
    "    for feature_value in feature_type.keys():\n",
    "        if canbyfeature[feature_value].get('H') is not None:\n",
    "            H += float(feature_allpeople[feature_value]) * canbyfeature[feature_value].get('H', 0)\n",
    "    \n",
    "    for feature_value in feature_type.keys():\n",
    "        if canbyfeature[feature_value].get('D') is not None:\n",
    "            D += float(feature_allpeople[feature_value]) * canbyfeature[feature_value].get('D', 0)\n",
    "    \n",
    "    return H, D\n",
    "\n",
    "temp=[]\n",
    "\n",
    "print(\"In following lines, the first number is for Clinton and the latter number is for Trump\")\n",
    "for i in ['age','education','gender','party','race']:\n",
    "    for j in ['age','education','gender','party','race']:\n",
    "        if i != j and {i,j} not in temp:\n",
    "            temp.append({i,j})\n",
    "            Hillary_all.append(margin(people_sel, groups,i,j)[0])\n",
    "            print(i,\"and\",j,margin(people_sel, groups,i,j))\n",
    "\n",
    "            \n",
    "import pandas as pd\n",
    "pd.set_option('display.width',5000)\n",
    "margin_df = pd.DataFrame(columns=[\"Feature 1\", \"Feature 2\", \"Clinton\", \"Trump\"])\n",
    "twod2_df = pd.DataFrame(columns=[\"Feature 1\", \"Feature 2\", \"Clinton\", \"Trump\"])\n",
    "\n",
    "temp = []\n",
    "for i in ['age', 'education', 'gender', 'party', 'race']:\n",
    "    for j in ['age', 'education', 'gender', 'party', 'race']:\n",
    "        if i != j and {i, j} not in temp:\n",
    "            temp.append({i, j})\n",
    "            H_result, D_result = margin(people_sel, groups, i, j)\n",
    "            margin_df = pd.concat([margin_df, pd.DataFrame({\"Feature 1\": [i], \"Feature 2\": [j], \"Clinton\": [H_result], \"Trump\": [D_result]})], ignore_index=True)\n",
    "\n",
    "\n",
    "temp = []\n",
    "for i in ['age', 'education', 'gender', 'party', 'race']:\n",
    "    for j in ['age', 'education', 'gender', 'party', 'race']:\n",
    "        if i != j and {i, j} not in temp:\n",
    "            temp.append({i, j})\n",
    "            H_result, D_result = twod2(people_sel, groups, i, j)\n",
    "            twod2_df = pd.concat([twod2_df, pd.DataFrame({\"Feature 1\": [i], \"Feature 2\": [j], \"Clinton\": [H_result], \"Trump\": [D_result]})], ignore_index=True)\n",
    "\n",
    "results_df = pd.merge(margin_df, twod2_df, on=[\"Feature 1\", \"Feature 2\"], suffixes=(\"_marginal\", \"_joint\"))\n",
    "print(results_df)\n"
   ]
  },
  {
   "cell_type": "markdown",
   "metadata": {},
   "source": [
    "The differences in the results obtained using the margin and joint methods are very small. \n",
    "The most significant difference between the two methods occurs when weighing education and race, indicating that these attributes are related but not independent; that is, people of a specific race may have higher or lower education levels. \n",
    "When the amount of data is significant, and there is no apparent relationship between attributes, using marginal method is reasonable."
   ]
  },
  {
   "cell_type": "markdown",
   "metadata": {},
   "source": [
    "### 4) Bonus points (up to 2 points): Implement a \"cheap\" version of the MRP technique mentioned in class.\n",
    "\n",
    "<font color='blue'> The above techniques use the mean answer among people who share a demographic as the estimate for that demographic. But that wastes information _across_ demographics. For example, maybe people who only have \"Some College\" are similar enough to people who have \"High School\" as to provide some useful information. \n",
    "\n",
    "First, do the following: use a logistic regression (or your favorite prediction tool) to predict candidate choice, using the demographics. You might want to convert some demographics (like education) to ordered numeric (e.g., 1, 2, 3) as opposed to using discrete categories. \n",
    "\n",
    "Here, you will earn partial bonus points by just reporting the predictions and comparing them to the means of each covariate group in the raw polling data. Give a scatter-plot, where each point is one combination of full demographics (age, gender, party, race/ethnicity, education), the X axis is the raw polling average for that combination, and the Y axis is your regression prediction for that combination.   \n",
    "\n",
    "Then, once you have predictions for each set of covariates, \"post-stratify\" to get a single population estimate by plugging them into the above weighting techniques, where you use the predictions instead of the raw averages in that cell. Report the resulting estimates if you do the 2-dimensional joint weighting (on every pair)."
   ]
  },
  {
   "cell_type": "code",
   "execution_count": null,
   "metadata": {},
   "outputs": [],
   "source": []
  },
  {
   "cell_type": "markdown",
   "metadata": {},
   "source": [
    "### 5) Bonus points (up to 2 points): Implement full \"raking\" using all the demographic covariates, i.e., match all the marginals without assuming independence, as opposed to just one or two marginal distributions.\n",
    "\n",
    "<font color='blue'> Hint: at the heart of raking is calculating a weight for each survey respondent, so that the weights, when summed up, matches the population on desired marginals as much as possible. \n",
    "\n",
    "For example, suppose we have a survey with two respondents, A likes chocolate and B hates chocolate. We know that in the population, 80\\% of people like chocolate (the number is made up). So in a representative sample with 2 respondents, we would expect to see 1.6 respondents who like chocolate. Thus, one possible thing to do is we assign A with weight 1.6 and B with weight 0.4, and then use these weights to weigh their answers to the question we care about.\n",
    "\n",
    "Of course, when the number of respondents and the number of demographic dimensions that we want to match get larger, finding the weights itself becomes harder. There are mainly two ways to do this. The first is through an iterative approach known as Iterative Proportional Fitting (IPF). IPF iterates through each demographic variable at a time, and adjusts the weights of all respondents through post stratification. IPF is easier to implement by hand by just following the instructions. The second approach is known as generalized raking, which is done through solving an optimization problem, and proposed by [Deville, J. C., Särndal, C. E., & Sautory, O. (1993)](https://www.tandfonline.com/doi/abs/10.1080/01621459.1993.10476369). This approach attempts to solve one undesirable outcome of IPF that the resulting weights may be unbalanced, which leads to higher variance in the final estimate. [This blog post](https://dev.to/potloc/generalized-raking-for-survey-weighting-2d1d) gives a nice introduction to generalized raking, while providing a code snippet for implementing it in Python (you will have to make suitable changes, of course.)"
   ]
  },
  {
   "cell_type": "code",
   "execution_count": null,
   "metadata": {},
   "outputs": [],
   "source": []
  },
  {
   "cell_type": "markdown",
   "metadata": {},
   "source": [
    "## Part C: Uncertainty analysis, choices, and discussion"
   ]
  },
  {
   "cell_type": "markdown",
   "metadata": {},
   "source": [
    "### 1) Education weighting analysis and \"refused\" answers"
   ]
  },
  {
   "cell_type": "markdown",
   "metadata": {},
   "source": [
    "<font color='blue'> i. In Part B, you should notice a discrepancy from what we said in class and the data -- weighting by education does _not_ seem to help much in reducing the polling average from being pro-Clinton.\n",
    "\n",
    "Here, we'll try to dig into the data to see why the methods we tried above might not be perfect, and what data you would want (such as demographic joint distribution) to do better. \n",
    "\n",
    "First, aggregate (using the groupby function) the poll results by education. Second, aggregate by education and some of the other covariates (for example, education and race, or education and party). Discuss in 4 sentences or less."
   ]
  },
  {
   "cell_type": "code",
   "execution_count": 50,
   "metadata": {
    "scrolled": false
   },
   "outputs": [
    {
     "name": "stdout",
     "output_type": "stream",
     "text": [
      "table of counts\n",
      "----------------------------------------------------------------------------------------------------\n",
      "candidate     Do not know  Donald Trump  Hillary Clinton  Someone else  Will not vote\n",
      "education                                                                            \n",
      "College                27           141              174            13             23\n",
      "High School            18            68               78             3              4\n",
      "Refused                 5             3                2             1              1\n",
      "Some College           28           115              139            13             11\n",
      "----------------------------------------------------------------------------------------------------\n",
      "candidate           Do not know  Donald Trump  Hillary Clinton  Someone else  Will not vote\n",
      "education    age                                                                           \n",
      "College      18-29           10            17               32             6              5\n",
      "             30-44           10            23               41             3             12\n",
      "             45-64            5            51               52             2              4\n",
      "             65+              2            50               49             2              2\n",
      "High School  18-29            5            11               25             3              2\n",
      "             30-44            2             7                7             0              1\n",
      "             45-64            7            25               25             0              0\n",
      "             65+              4            25               21             0              1\n",
      "Refused      30-44            2             1                0             1              0\n",
      "             45-64            3             2                1             0              0\n",
      "             65+              0             0                1             0              1\n",
      "Some College 18-29            6            19               40             7              5\n",
      "             30-44            6            20               26             3              3\n",
      "             45-64            5            38               38             3              2\n",
      "             65+             11            38               35             0              1\n",
      "----------------------------------------------------------------------------------------------------\n",
      "candidate              Do not know  Donald Trump  Hillary Clinton  Someone else  Will not vote\n",
      "education    race                                                                             \n",
      "College      Black               5             3               23             0              2\n",
      "             Hispanic            9            13               44             3              4\n",
      "             Other               0             5               10             1              4\n",
      "             Refused             1             4                4             0              0\n",
      "             White              12           116               93             9             13\n",
      "High School  Black               3             2               25             0              3\n",
      "             Hispanic            4             6               30             3              0\n",
      "             Other               1             3                2             0              0\n",
      "             Refused             1             1                0             0              0\n",
      "             White               9            56               21             0              1\n",
      "Refused      Black               1             0                1             0              0\n",
      "             Hispanic            0             1                0             0              0\n",
      "             Refused             3             2                1             1              1\n",
      "             White               1             0                0             0              0\n",
      "Some College Black               2             0               28             2              2\n",
      "             Hispanic            4            13               36             3              3\n",
      "             Other               2             2                8             0              1\n",
      "             Refused             2             3                2             0              2\n",
      "             White              18            97               65             8              3\n",
      "----------------------------------------------------------------------------------------------------\n",
      "candidate                 Do not know  Donald Trump  Hillary Clinton  Someone else  Will not vote\n",
      "education    party                                                                               \n",
      "College      Democrat               7             7              116             1              4\n",
      "             Independent           14            47               46            11             14\n",
      "             Refused                0             0                4             0              0\n",
      "             Republican             6            87                8             1              5\n",
      "High School  Democrat               6             6               55             1              1\n",
      "             Independent            8            19               18             2              2\n",
      "             Refused                2             0                3             0              0\n",
      "             Republican             2            43                2             0              1\n",
      "Refused      Democrat               1             0                2             1              0\n",
      "             Independent            2             1                0             0              0\n",
      "             Refused                2             0                0             0              1\n",
      "             Republican             0             2                0             0              0\n",
      "Some College Democrat               5             4               90             1              3\n",
      "             Independent           16            43               42            11              6\n",
      "             Refused                3             1                1             0              1\n",
      "             Republican             4            67                6             1              1\n",
      "----------------------------------------------------------------------------------------------------\n",
      "candidate            Do not know  Donald Trump  Hillary Clinton  Someone else  Will not vote\n",
      "education    gender                                                                         \n",
      "College      Female           10            59               94             5             12\n",
      "             Male             17            82               80             8             11\n",
      "High School  Female           10            33               47             2              1\n",
      "             Male              8            35               31             1              3\n",
      "Refused      Female            3             1                2             1              0\n",
      "             Male              2             2                0             0              1\n",
      "Some College Female           19            57               78             4              3\n",
      "             Male              9            58               61             9              8\n",
      "----------------------------------------------------------------------------------------------------\n"
     ]
    }
   ],
   "source": [
    "df = pd.read_csv(\"polling_data_hw1.csv\")\n",
    "\n",
    "print('table of counts')\n",
    "print('-'*100)\n",
    "education = df.groupby(['education', 'candidate']).size().unstack(fill_value=0)\n",
    "print(education)\n",
    "print('-'*100)\n",
    "\n",
    "education_age = df.groupby(['education','age','candidate']).size().unstack(fill_value=0)\n",
    "print(education_age)\n",
    "print('-'*100)\n",
    "\n",
    "education_race = df.groupby(['education','race','candidate']).size().unstack(fill_value=0)\n",
    "print(education_race)\n",
    "print('-'*100)\n",
    "\n",
    "education_party = df.groupby(['education','party','candidate']).size().unstack(fill_value=0)\n",
    "print(education_party)\n",
    "print('-'*100)\n",
    "\n",
    "education_gender = df.groupby(['education','gender','candidate']).size().unstack(fill_value=0)\n",
    "print(education_gender)\n",
    "print('-'*100)"
   ]
  },
  {
   "cell_type": "code",
   "execution_count": 54,
   "metadata": {
    "scrolled": false
   },
   "outputs": [
    {
     "name": "stdout",
     "output_type": "stream",
     "text": [
      "table of percentage\n",
      "----------------------------------------------------------------------------------------------------\n",
      "candidate     Do not know  Donald Trump  Hillary Clinton  Someone else  Will not vote\n",
      "education                                                                            \n",
      "College          0.071429      0.373016         0.460317      0.034392       0.060847\n",
      "High School      0.105263      0.397661         0.456140      0.017544       0.023392\n",
      "Refused          0.416667      0.250000         0.166667      0.083333       0.083333\n",
      "Some College     0.091503      0.375817         0.454248      0.042484       0.035948\n",
      "----------------------------------------------------------------------------------------------------\n",
      "candidate           Do not know  Donald Trump  Hillary Clinton  Someone else  Will not vote\n",
      "education    age                                                                           \n",
      "College      18-29     0.142857      0.242857         0.457143      0.085714       0.071429\n",
      "             30-44     0.112360      0.258427         0.460674      0.033708       0.134831\n",
      "             45-64     0.043860      0.447368         0.456140      0.017544       0.035088\n",
      "             65+       0.019048      0.476190         0.466667      0.019048       0.019048\n",
      "High School  18-29     0.108696      0.239130         0.543478      0.065217       0.043478\n",
      "             30-44     0.117647      0.411765         0.411765      0.000000       0.058824\n",
      "             45-64     0.122807      0.438596         0.438596      0.000000       0.000000\n",
      "             65+       0.078431      0.490196         0.411765      0.000000       0.019608\n",
      "Refused      30-44     0.500000      0.250000         0.000000      0.250000       0.000000\n",
      "             45-64     0.500000      0.333333         0.166667      0.000000       0.000000\n",
      "             65+       0.000000      0.000000         0.500000      0.000000       0.500000\n",
      "Some College 18-29     0.077922      0.246753         0.519481      0.090909       0.064935\n",
      "             30-44     0.103448      0.344828         0.448276      0.051724       0.051724\n",
      "             45-64     0.058140      0.441860         0.441860      0.034884       0.023256\n",
      "             65+       0.129412      0.447059         0.411765      0.000000       0.011765\n",
      "----------------------------------------------------------------------------------------------------\n",
      "candidate              Do not know  Donald Trump  Hillary Clinton  Someone else  Will not vote\n",
      "education    race                                                                             \n",
      "College      Black        0.151515      0.090909         0.696970      0.000000       0.060606\n",
      "             Hispanic     0.123288      0.178082         0.602740      0.041096       0.054795\n",
      "             Other        0.000000      0.250000         0.500000      0.050000       0.200000\n",
      "             Refused      0.111111      0.444444         0.444444      0.000000       0.000000\n",
      "             White        0.049383      0.477366         0.382716      0.037037       0.053498\n",
      "High School  Black        0.090909      0.060606         0.757576      0.000000       0.090909\n",
      "             Hispanic     0.093023      0.139535         0.697674      0.069767       0.000000\n",
      "             Other        0.166667      0.500000         0.333333      0.000000       0.000000\n",
      "             Refused      0.500000      0.500000         0.000000      0.000000       0.000000\n",
      "             White        0.103448      0.643678         0.241379      0.000000       0.011494\n",
      "Refused      Black        0.500000      0.000000         0.500000      0.000000       0.000000\n",
      "             Hispanic     0.000000      1.000000         0.000000      0.000000       0.000000\n",
      "             Refused      0.375000      0.250000         0.125000      0.125000       0.125000\n",
      "             White        1.000000      0.000000         0.000000      0.000000       0.000000\n",
      "Some College Black        0.058824      0.000000         0.823529      0.058824       0.058824\n",
      "             Hispanic     0.067797      0.220339         0.610169      0.050847       0.050847\n",
      "             Other        0.153846      0.153846         0.615385      0.000000       0.076923\n",
      "             Refused      0.222222      0.333333         0.222222      0.000000       0.222222\n",
      "             White        0.094241      0.507853         0.340314      0.041885       0.015707\n",
      "----------------------------------------------------------------------------------------------------\n",
      "candidate                 Do not know  Donald Trump  Hillary Clinton  Someone else  Will not vote\n",
      "education    party                                                                               \n",
      "College      Democrat        0.051852      0.051852         0.859259      0.007407       0.029630\n",
      "             Independent     0.106061      0.356061         0.348485      0.083333       0.106061\n",
      "             Refused         0.000000      0.000000         1.000000      0.000000       0.000000\n",
      "             Republican      0.056075      0.813084         0.074766      0.009346       0.046729\n",
      "High School  Democrat        0.086957      0.086957         0.797101      0.014493       0.014493\n",
      "             Independent     0.163265      0.387755         0.367347      0.040816       0.040816\n",
      "             Refused         0.400000      0.000000         0.600000      0.000000       0.000000\n",
      "             Republican      0.041667      0.895833         0.041667      0.000000       0.020833\n",
      "Refused      Democrat        0.250000      0.000000         0.500000      0.250000       0.000000\n",
      "             Independent     0.666667      0.333333         0.000000      0.000000       0.000000\n",
      "             Refused         0.666667      0.000000         0.000000      0.000000       0.333333\n",
      "             Republican      0.000000      1.000000         0.000000      0.000000       0.000000\n",
      "Some College Democrat        0.048544      0.038835         0.873786      0.009709       0.029126\n",
      "             Independent     0.135593      0.364407         0.355932      0.093220       0.050847\n",
      "             Refused         0.500000      0.166667         0.166667      0.000000       0.166667\n",
      "             Republican      0.050633      0.848101         0.075949      0.012658       0.012658\n",
      "----------------------------------------------------------------------------------------------------\n",
      "candidate            Do not know  Donald Trump  Hillary Clinton  Someone else  Will not vote\n",
      "education    gender                                                                         \n",
      "College      Female     0.055556      0.327778         0.522222      0.027778       0.066667\n",
      "             Male       0.085859      0.414141         0.404040      0.040404       0.055556\n",
      "High School  Female     0.107527      0.354839         0.505376      0.021505       0.010753\n",
      "             Male       0.102564      0.448718         0.397436      0.012821       0.038462\n",
      "Refused      Female     0.428571      0.142857         0.285714      0.142857       0.000000\n",
      "             Male       0.400000      0.400000         0.000000      0.000000       0.200000\n",
      "Some College Female     0.118012      0.354037         0.484472      0.024845       0.018634\n",
      "             Male       0.062069      0.400000         0.420690      0.062069       0.055172\n",
      "----------------------------------------------------------------------------------------------------\n"
     ]
    }
   ],
   "source": [
    "print('table of percentage')\n",
    "print('-'*100)\n",
    "education = df.groupby(['education', 'candidate']).size().unstack(fill_value=0)\n",
    "education_percentage = education.div(education.sum(axis=1), axis=0)\n",
    "print(education_percentage)\n",
    "print('-'*100)\n",
    "\n",
    "\n",
    "education_age = df.groupby(['education', 'age', 'candidate']).size().unstack(fill_value=0)\n",
    "education_age_percentage = education_age.div(education_age.sum(axis=1), axis=0)\n",
    "print(education_age_percentage)\n",
    "print('-'*100)\n",
    "\n",
    "\n",
    "education_race = df.groupby(['education', 'race', 'candidate']).size().unstack(fill_value=0)\n",
    "education_race_percentage = education_race.div(education_race.sum(axis=1), axis=0)\n",
    "print(education_race_percentage)\n",
    "print('-'*100)\n",
    "\n",
    "\n",
    "education_party = df.groupby(['education', 'party', 'candidate']).size().unstack(fill_value=0)\n",
    "education_party_percentage = education_party.div(education_party.sum(axis=1), axis=0)\n",
    "print(education_party_percentage)\n",
    "print('-'*100)\n",
    "\n",
    "education_gender = df.groupby(['education', 'gender', 'candidate']).size().unstack(fill_value=0)\n",
    "education_gender_percentage = education_gender.div(education_gender.sum(axis=1), axis=0)\n",
    "print(education_gender_percentage)\n",
    "print('-'*100)"
   ]
  },
  {
   "cell_type": "markdown",
   "metadata": {},
   "source": [
    "Proportionally speaking, people who refuse to answer the question about education level are more likely to select \"Trump\", so ignoring the data of people who answered \"refused\" will cause the proportion of selected Clinton to be higher, which will result in weighting education not being beneficial in reducing the average of polls supporting Clinton. Also, the joint distribution of education and gender needs to be better because the men who refused to answer education level all voted for Trump, with a strong preference. \n",
    "The effect of using the joint distribution of education and party may be better because people who refuse to answer party are more likely to choose Clinton, and the joint of the two may offset the impact of ignoring \"refused\" data, while the calculation results before confirming this. \n",
    "Finally, some groups are too specific, with high variances."
   ]
  },
  {
   "cell_type": "markdown",
   "metadata": {},
   "source": [
    "<font color='blue'> ii. You'll notice that there are some responses with \"refused,\" and that those people in particular are Trump-leaning. Furthermore, there are likely many people who refused to answer the poll at all, who do not show up in the data. The weighting techniques we used above would ignore these people. How would you adjust your procedures/estimates above to take them into account? Answer in at most 3 sentences."
   ]
  },
  {
   "cell_type": "markdown",
   "metadata": {},
   "source": [
    "We can examine whether the \"Refused\" answer is associated with other particular demographic characteristics. We can stratify the sample and call more from the \"shy\" group to reduce differential non-response. Even just differential opinion, stratification mitigates which groups are over- and under-sampled due to noise. We can also use multi-level regression with post-stratification and try to get more data samples."
   ]
  },
  {
   "cell_type": "markdown",
   "metadata": {},
   "source": [
    "<font color='blue'> None of the above techniques deal with selection biases/non-response on _un-measured_ covariates. Do you think that may be an important concern in this dataset? Why or why not? Respond in 3 or fewer sentences."
   ]
  },
  {
   "cell_type": "markdown",
   "metadata": {},
   "source": [
    "Yes. In elections, causation is very likely to influence voting outcomes. If nonresponse or selection bias is associated with unmeasured covariates, it may result that the response or selected sample may not be representative of the entire population, and it may be difficult to find undersampled groups and accurately stratify."
   ]
  },
  {
   "cell_type": "markdown",
   "metadata": {},
   "source": [
    "### 2) Final estimates"
   ]
  },
  {
   "cell_type": "markdown",
   "metadata": {},
   "source": [
    "<font color='blue'> Throughout this homework, you made many estimates of the same quantity -- the fraction of people who will vote for Clinton in Florida. Below, plot a histogram of all your estimates."
   ]
  },
  {
   "cell_type": "code",
   "execution_count": 81,
   "metadata": {},
   "outputs": [
    {
     "data": {
      "image/png": "[encoded data removed]",
      "text/plain": [
       "<Figure size 640x480 with 1 Axes>"
      ]
     },
     "metadata": {},
     "output_type": "display_data"
    },
    {
     "name": "stdout",
     "output_type": "stream",
     "text": [
      "[0.5458333333333333, 0.5305420129721238, 0.5440587022833179, 0.5498233520750473, 0.4987195030437841, 0.5304859528515626, 0.5254829927664427, 0.5332889700974133, 0.4979923466251235, 0.5245159272021908, 0.5475782479595503, 0.4935008813708104, 0.514272284761291, 0.5029213060686997, 0.5348155487959093, 0.5011444670666649, 0.5239021013398512, 0.5336204861210343, 0.49560589356749163, 0.5248995300419046, 0.5474630723485618, 0.49371450047545906, 0.5071514204364683, 0.5038023651304451, 0.534844343587629, 0.519658653188184]\n"
     ]
    }
   ],
   "source": [
    "import matplotlib.pyplot as plt\n",
    "\n",
    "plt.hist(Hillary_all, edgecolor='black', alpha=0.7, color='blue')\n",
    "\n",
    "plt.xlabel('The fraction of people who will vote for Clinton in Florida')\n",
    "plt.ylabel('Frequency')\n",
    "\n",
    "plt.show()\n",
    "print(Hillary_all)"
   ]
  },
  {
   "cell_type": "markdown",
   "metadata": {},
   "source": [
    "<font color='blue'> Given all your above analysis, if you were a pollster what would you report as your single estimate? "
   ]
  },
  {
   "cell_type": "code",
   "execution_count": 85,
   "metadata": {},
   "outputs": [
    {
     "name": "stdout",
     "output_type": "stream",
     "text": [
      "0.5215245459811652\n"
     ]
    }
   ],
   "source": [
    "mean = sum(Hillary_all) / len(Hillary_all)\n",
    "print(mean)"
   ]
  },
  {
   "cell_type": "markdown",
   "metadata": {},
   "source": [
    "<font color='blue'> Justify your choice, in at most 3 sentences"
   ]
  },
  {
   "cell_type": "markdown",
   "metadata": {},
   "source": [
    "In the raw polling mean, we do not consider whether the proportions of different groups are reliable and may over-sample some groups. In the weighting calculation, we ignore the “refused” group. For example, when weighing party, we discard many samples that support Clinton, and when weighing education, we ignore some samples that support Trump. In the 2-D weighting calculation, many groups are too specific, and groups with only one person exist, which is the method's shortcomings. \n",
    "Considering the problems of various forms, I will report the mean of all estimates."
   ]
  },
  {
   "cell_type": "markdown",
   "metadata": {},
   "source": [
    "<font color='blue'> Though we did not discuss how to calculate margin of error or standard errors with weighting in this course, what would you say if someone asked you how confident you are in your estimate? You may either qualitatively answer, or try to come up with a margin of error.  "
   ]
  },
  {
   "cell_type": "code",
   "execution_count": 93,
   "metadata": {},
   "outputs": [
    {
     "name": "stdout",
     "output_type": "stream",
     "text": [
      "standard errors：0.0036659969282941173\n",
      "95% margin of error：(0.5139742839730682, 0.5290748079892621)\n"
     ]
    }
   ],
   "source": [
    "from scipy import stats\n",
    "std_error = stats.sem(Hillary_all)\n",
    "\n",
    "confidence_interval = stats.t.interval(0.95, len(Hillary_all) - 1, loc=mean, scale=std_error)\n",
    "\n",
    "print(f\"standard errors：{std_error}\")\n",
    "print(f\"95% margin of error：{confidence_interval}\")"
   ]
  }
 ],
 "metadata": {
  "kernelspec": {
   "display_name": "Python 3 (ipykernel)",
   "language": "python",
   "name": "python3"
  },
  "language_info": {
   "codemirror_mode": {
    "name": "ipython",
    "version": 3
   },
   "file_extension": ".py",
   "mimetype": "text/x-python",
   "name": "python",
   "nbconvert_exporter": "python",
   "pygments_lexer": "ipython3",
   "version": "3.11.4"
  },
  "varInspector": {
   "cols": {
    "lenName": 16,
    "lenType": 16,
    "lenVar": 40
   },
   "kernels_config": {
    "python": {
     "delete_cmd_postfix": "",
     "delete_cmd_prefix": "del ",
     "library": "var_list.py",
     "varRefreshCmd": "print(var_dic_list())"
    },
    "r": {
     "delete_cmd_postfix": ") ",
     "delete_cmd_prefix": "rm(",
     "library": "var_list.r",
     "varRefreshCmd": "cat(var_dic_list()) "
    }
   },
   "types_to_exclude": [
    "module",
    "function",
    "builtin_function_or_method",
    "instance",
    "_Feature"
   ],
   "window_display": false
  },
  "vscode": {
   "interpreter": {
    "hash": "08c7ecce80b69c620dde7c8919fa94d3baa2217d665b4d1ca74ed6f93561aaf3"
   }
  }
 },
 "nbformat": 4,
 "nbformat_minor": 2
}
